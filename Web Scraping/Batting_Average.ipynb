{
  "cells": [
    {
      "cell_type": "code",
      "execution_count": null,
      "metadata": {
        "colab": {
          "base_uri": "https://localhost:8080/"
        },
        "id": "MsWP8uU3C1bu",
        "outputId": "f02ffd56-9d56-4150-bb90-213d4a40410c"
      },
      "outputs": [
        {
          "output_type": "stream",
          "name": "stdout",
          "text": [
            "Looking in indexes: https://pypi.org/simple, https://us-python.pkg.dev/colab-wheels/public/simple/\n",
            "Requirement already satisfied: beautifulsoup4 in /usr/local/lib/python3.8/dist-packages (4.6.3)\n"
          ]
        }
      ],
      "source": [
        "!pip install beautifulsoup4"
      ]
    },
    {
      "cell_type": "code",
      "execution_count": null,
      "metadata": {
        "colab": {
          "base_uri": "https://localhost:8080/"
        },
        "id": "_V9HBebgDcQE",
        "outputId": "ce6535fd-e2c0-4bb5-905b-778b65e0420b"
      },
      "outputs": [
        {
          "output_type": "stream",
          "name": "stdout",
          "text": [
            "<Response [200]>\n"
          ]
        }
      ],
      "source": [
        "import requests\n",
        "# Create an URL object\n",
        "url = 'https://stats.espncricinfo.com/ci/engine/records/team/match_results.html?id=14450;type=tournament'\n",
        "# Create object page\n",
        "page = requests.get(url)\n",
        "print(page)\n",
        "# If the output is <Response [200]> that means the server allows us to collect data from their website."
      ]
    },
    {
      "cell_type": "code",
      "execution_count": null,
      "metadata": {
        "id": "d2F4gXp5Dfgn"
      },
      "outputs": [],
      "source": [
        "from bs4 import BeautifulSoup\n",
        "# parser-lxml = Change html to Python friendly format\n",
        "# Obtain page's information\n",
        "soup = BeautifulSoup(page.text, 'lxml')"
      ]
    },
    {
      "cell_type": "code",
      "execution_count": null,
      "metadata": {
        "colab": {
          "base_uri": "https://localhost:8080/"
        },
        "id": "UutwTdw8DTH7",
        "outputId": "98a13051-b429-40a9-a18e-e71938acae34"
      },
      "outputs": [
        {
          "output_type": "stream",
          "name": "stdout",
          "text": [
            "['https://stats.espncricinfo.com/ci/content/team/28.html', 'https://stats.espncricinfo.com/ci/content/team/8.html', 'https://stats.espncricinfo.com/ci/content/team/28.html', 'https://stats.espncricinfo.com/ci/content/ground/56402.html', 'https://stats.espncricinfo.com/ci/engine/match/1298135.html', 'https://stats.espncricinfo.com/ci/content/team/15.html', 'https://stats.espncricinfo.com/ci/content/team/27.html', 'https://stats.espncricinfo.com/ci/content/team/15.html', 'https://stats.espncricinfo.com/ci/content/ground/56402.html', 'https://stats.espncricinfo.com/ci/engine/match/1298136.html', 'https://stats.espncricinfo.com/ci/content/team/30.html', 'https://stats.espncricinfo.com/ci/content/team/4.html', 'https://stats.espncricinfo.com/ci/content/team/30.html', 'https://stats.espncricinfo.com/ci/content/ground/56407.html', 'https://stats.espncricinfo.com/ci/engine/match/1298137.html', 'https://stats.espncricinfo.com/ci/content/team/29.html', 'https://stats.espncricinfo.com/ci/content/team/9.html', 'https://stats.espncricinfo.com/ci/content/team/9.html', 'https://stats.espncricinfo.com/ci/content/ground/56407.html', 'https://stats.espncricinfo.com/ci/engine/match/1298138.html', 'https://stats.espncricinfo.com/ci/content/team/28.html', 'https://stats.espncricinfo.com/ci/content/team/15.html', 'https://stats.espncricinfo.com/ci/content/team/15.html', 'https://stats.espncricinfo.com/ci/content/ground/56402.html', 'https://stats.espncricinfo.com/ci/engine/match/1298139.html', 'https://stats.espncricinfo.com/ci/content/team/8.html', 'https://stats.espncricinfo.com/ci/content/team/27.html', 'https://stats.espncricinfo.com/ci/content/team/8.html', 'https://stats.espncricinfo.com/ci/content/ground/56402.html', 'https://stats.espncricinfo.com/ci/engine/match/1298140.html', 'https://stats.espncricinfo.com/ci/content/team/29.html', 'https://stats.espncricinfo.com/ci/content/team/30.html', 'https://stats.espncricinfo.com/ci/content/team/29.html', 'https://stats.espncricinfo.com/ci/content/ground/56407.html', 'https://stats.espncricinfo.com/ci/engine/match/1298141.html', 'https://stats.espncricinfo.com/ci/content/team/4.html', 'https://stats.espncricinfo.com/ci/content/team/9.html', 'https://stats.espncricinfo.com/ci/content/team/4.html', 'https://stats.espncricinfo.com/ci/content/ground/56407.html', 'https://stats.espncricinfo.com/ci/engine/match/1298142.html', 'https://stats.espncricinfo.com/ci/content/team/15.html', 'https://stats.espncricinfo.com/ci/content/team/8.html', 'https://stats.espncricinfo.com/ci/content/team/8.html', 'https://stats.espncricinfo.com/ci/content/ground/56402.html', 'https://stats.espncricinfo.com/ci/engine/match/1298143.html', 'https://stats.espncricinfo.com/ci/content/team/28.html', 'https://stats.espncricinfo.com/ci/content/team/27.html', 'https://stats.espncricinfo.com/ci/content/team/27.html', 'https://stats.espncricinfo.com/ci/content/ground/56402.html', 'https://stats.espncricinfo.com/ci/engine/match/1298144.html', 'https://stats.espncricinfo.com/ci/content/team/29.html', 'https://stats.espncricinfo.com/ci/content/team/4.html', 'https://stats.espncricinfo.com/ci/content/team/29.html', 'https://stats.espncricinfo.com/ci/content/ground/56407.html', 'https://stats.espncricinfo.com/ci/engine/match/1298145.html', 'https://stats.espncricinfo.com/ci/content/team/30.html', 'https://stats.espncricinfo.com/ci/content/team/9.html', 'https://stats.espncricinfo.com/ci/content/team/9.html', 'https://stats.espncricinfo.com/ci/content/ground/56407.html', 'https://stats.espncricinfo.com/ci/engine/match/1298146.html', 'https://stats.espncricinfo.com/ci/content/team/2.html', 'https://stats.espncricinfo.com/ci/content/team/5.html', 'https://stats.espncricinfo.com/ci/content/team/5.html', 'https://stats.espncricinfo.com/ci/content/ground/56544.html', 'https://stats.espncricinfo.com/ci/engine/match/1298147.html', 'https://stats.espncricinfo.com/ci/content/team/40.html', 'https://stats.espncricinfo.com/ci/content/team/1.html', 'https://stats.espncricinfo.com/ci/content/team/1.html', 'https://stats.espncricinfo.com/ci/content/ground/1126475.html', 'https://stats.espncricinfo.com/ci/engine/match/1298148.html', 'https://stats.espncricinfo.com/ci/content/team/29.html', 'https://stats.espncricinfo.com/ci/content/team/8.html', 'https://stats.espncricinfo.com/ci/content/team/8.html', 'https://stats.espncricinfo.com/ci/content/ground/56407.html', 'https://stats.espncricinfo.com/ci/engine/match/1298149.html', 'https://stats.espncricinfo.com/ci/content/team/6.html', 'https://stats.espncricinfo.com/ci/content/team/7.html', 'https://stats.espncricinfo.com/ci/content/team/6.html', 'https://stats.espncricinfo.com/ci/content/ground/56441.html', 'https://stats.espncricinfo.com/ci/engine/match/1298150.html', 'https://stats.espncricinfo.com/ci/content/team/25.html', 'https://stats.espncricinfo.com/ci/content/team/15.html', 'https://stats.espncricinfo.com/ci/content/team/25.html', 'https://stats.espncricinfo.com/ci/content/ground/56407.html', 'https://stats.espncricinfo.com/ci/engine/match/1298151.html', 'https://stats.espncricinfo.com/ci/content/team/3.html', 'https://stats.espncricinfo.com/ci/content/team/9.html', 'https://stats.espncricinfo.com/ci/content/ground/56407.html', 'https://stats.espncricinfo.com/ci/engine/match/1298152.html', 'https://stats.espncricinfo.com/ci/content/team/2.html', 'https://stats.espncricinfo.com/ci/content/team/8.html', 'https://stats.espncricinfo.com/ci/content/team/2.html', 'https://stats.espncricinfo.com/ci/content/ground/1126475.html', 'https://stats.espncricinfo.com/ci/engine/match/1298153.html', 'https://stats.espncricinfo.com/ci/content/team/1.html', 'https://stats.espncricinfo.com/ci/content/team/29.html', 'https://stats.espncricinfo.com/ci/content/team/29.html', 'https://stats.espncricinfo.com/ci/content/ground/56441.html', 'https://stats.espncricinfo.com/ci/engine/match/1298154.html', 'https://stats.espncricinfo.com/ci/content/team/40.html', 'https://stats.espncricinfo.com/ci/content/team/5.html', 'https://stats.espncricinfo.com/ci/content/ground/56441.html', 'https://stats.espncricinfo.com/ci/engine/match/1298155.html', 'https://stats.espncricinfo.com/ci/content/team/25.html', 'https://stats.espncricinfo.com/ci/content/team/3.html', 'https://stats.espncricinfo.com/ci/content/team/3.html', 'https://stats.espncricinfo.com/ci/content/ground/56544.html', 'https://stats.espncricinfo.com/ci/engine/match/1298156.html', 'https://stats.espncricinfo.com/ci/content/team/6.html', 'https://stats.espncricinfo.com/ci/content/team/15.html', 'https://stats.espncricinfo.com/ci/content/team/6.html', 'https://stats.espncricinfo.com/ci/content/ground/56544.html', 'https://stats.espncricinfo.com/ci/engine/match/1298157.html', 'https://stats.espncricinfo.com/ci/content/team/7.html', 'https://stats.espncricinfo.com/ci/content/team/9.html', 'https://stats.espncricinfo.com/ci/content/team/9.html', 'https://stats.espncricinfo.com/ci/content/ground/1126475.html', 'https://stats.espncricinfo.com/ci/engine/match/1298158.html', 'https://stats.espncricinfo.com/ci/content/team/40.html', 'https://stats.espncricinfo.com/ci/content/team/29.html', 'https://stats.espncricinfo.com/ci/content/ground/56441.html', 'https://stats.espncricinfo.com/ci/engine/match/1298159.html', 'https://stats.espncricinfo.com/ci/content/team/2.html', 'https://stats.espncricinfo.com/ci/content/team/1.html', 'https://stats.espncricinfo.com/ci/content/ground/56441.html', 'https://stats.espncricinfo.com/ci/engine/match/1298160.html', 'https://stats.espncricinfo.com/ci/content/team/5.html', 'https://stats.espncricinfo.com/ci/content/team/8.html', 'https://stats.espncricinfo.com/ci/content/team/5.html', 'https://stats.espncricinfo.com/ci/content/ground/56544.html', 'https://stats.espncricinfo.com/ci/engine/match/1298161.html', 'https://stats.espncricinfo.com/ci/content/team/25.html', 'https://stats.espncricinfo.com/ci/content/team/9.html', 'https://stats.espncricinfo.com/ci/content/team/25.html', 'https://stats.espncricinfo.com/ci/content/ground/56336.html', 'https://stats.espncricinfo.com/ci/engine/match/1298162.html', 'https://stats.espncricinfo.com/ci/content/team/15.html', 'https://stats.espncricinfo.com/ci/content/team/7.html', 'https://stats.espncricinfo.com/ci/content/team/7.html', 'https://stats.espncricinfo.com/ci/content/ground/1126475.html', 'https://stats.espncricinfo.com/ci/engine/match/1298163.html', 'https://stats.espncricinfo.com/ci/content/team/6.html', 'https://stats.espncricinfo.com/ci/content/team/3.html', 'https://stats.espncricinfo.com/ci/content/team/3.html', 'https://stats.espncricinfo.com/ci/content/ground/1126475.html', 'https://stats.espncricinfo.com/ci/engine/match/1298164.html', 'https://stats.espncricinfo.com/ci/content/team/2.html', 'https://stats.espncricinfo.com/ci/content/team/29.html', 'https://stats.espncricinfo.com/ci/content/team/2.html', 'https://stats.espncricinfo.com/ci/content/ground/56336.html', 'https://stats.espncricinfo.com/ci/engine/match/1298165.html', 'https://stats.espncricinfo.com/ci/content/team/40.html', 'https://stats.espncricinfo.com/ci/content/team/8.html', 'https://stats.espncricinfo.com/ci/content/team/8.html', 'https://stats.espncricinfo.com/ci/content/ground/56336.html', 'https://stats.espncricinfo.com/ci/engine/match/1298166.html', 'https://stats.espncricinfo.com/ci/content/team/1.html', 'https://stats.espncricinfo.com/ci/content/team/5.html', 'https://stats.espncricinfo.com/ci/content/team/1.html', 'https://stats.espncricinfo.com/ci/content/ground/56336.html', 'https://stats.espncricinfo.com/ci/engine/match/1298167.html', 'https://stats.espncricinfo.com/ci/content/team/15.html', 'https://stats.espncricinfo.com/ci/content/team/9.html', 'https://stats.espncricinfo.com/ci/content/team/15.html', 'https://stats.espncricinfo.com/ci/content/ground/56293.html', 'https://stats.espncricinfo.com/ci/engine/match/1298168.html', 'https://stats.espncricinfo.com/ci/content/team/25.html', 'https://stats.espncricinfo.com/ci/content/team/6.html', 'https://stats.espncricinfo.com/ci/content/team/6.html', 'https://stats.espncricinfo.com/ci/content/ground/56293.html', 'https://stats.espncricinfo.com/ci/engine/match/1298169.html', 'https://stats.espncricinfo.com/ci/content/team/7.html', 'https://stats.espncricinfo.com/ci/content/team/3.html', 'https://stats.espncricinfo.com/ci/content/team/7.html', 'https://stats.espncricinfo.com/ci/content/ground/56544.html', 'https://stats.espncricinfo.com/ci/engine/match/1298170.html', 'https://stats.espncricinfo.com/ci/content/team/29.html', 'https://stats.espncricinfo.com/ci/content/team/5.html', 'https://stats.espncricinfo.com/ci/content/team/5.html', 'https://stats.espncricinfo.com/ci/content/ground/56293.html', 'https://stats.espncricinfo.com/ci/engine/match/1298171.html', 'https://stats.espncricinfo.com/ci/content/team/2.html', 'https://stats.espncricinfo.com/ci/content/team/40.html', 'https://stats.espncricinfo.com/ci/content/team/2.html', 'https://stats.espncricinfo.com/ci/content/ground/56293.html', 'https://stats.espncricinfo.com/ci/engine/match/1298172.html', 'https://stats.espncricinfo.com/ci/content/team/1.html', 'https://stats.espncricinfo.com/ci/content/team/8.html', 'https://stats.espncricinfo.com/ci/content/team/1.html', 'https://stats.espncricinfo.com/ci/content/ground/56544.html', 'https://stats.espncricinfo.com/ci/engine/match/1298173.html', 'https://stats.espncricinfo.com/ci/content/team/15.html', 'https://stats.espncricinfo.com/ci/content/team/3.html', 'https://stats.espncricinfo.com/ci/content/team/15.html', 'https://stats.espncricinfo.com/ci/content/ground/56293.html', 'https://stats.espncricinfo.com/ci/engine/match/1298174.html', 'https://stats.espncricinfo.com/ci/content/team/25.html', 'https://stats.espncricinfo.com/ci/content/team/7.html', 'https://stats.espncricinfo.com/ci/content/team/7.html', 'https://stats.espncricinfo.com/ci/content/ground/56293.html', 'https://stats.espncricinfo.com/ci/engine/match/1298175.html', 'https://stats.espncricinfo.com/ci/content/team/6.html', 'https://stats.espncricinfo.com/ci/content/team/9.html', 'https://stats.espncricinfo.com/ci/content/team/6.html', 'https://stats.espncricinfo.com/ci/content/ground/56441.html', 'https://stats.espncricinfo.com/ci/engine/match/1298176.html', 'https://stats.espncricinfo.com/ci/content/team/5.html', 'https://stats.espncricinfo.com/ci/content/team/7.html', 'https://stats.espncricinfo.com/ci/content/team/7.html', 'https://stats.espncricinfo.com/ci/content/ground/56544.html', 'https://stats.espncricinfo.com/ci/engine/match/1298177.html', 'https://stats.espncricinfo.com/ci/content/team/1.html', 'https://stats.espncricinfo.com/ci/content/team/6.html', 'https://stats.espncricinfo.com/ci/content/team/1.html', 'https://stats.espncricinfo.com/ci/content/ground/56293.html', 'https://stats.espncricinfo.com/ci/engine/match/1298178.html', 'https://stats.espncricinfo.com/ci/content/team/1.html', 'https://stats.espncricinfo.com/ci/content/team/7.html', 'https://stats.espncricinfo.com/ci/content/team/1.html', 'https://stats.espncricinfo.com/ci/content/ground/56441.html', 'https://stats.espncricinfo.com/ci/engine/match/1298179.html']\n",
            "['https://stats.espncricinfo.com/ci/engine/match/1298135.html', 'https://stats.espncricinfo.com/ci/engine/match/1298136.html', 'https://stats.espncricinfo.com/ci/engine/match/1298137.html', 'https://stats.espncricinfo.com/ci/engine/match/1298138.html', 'https://stats.espncricinfo.com/ci/engine/match/1298139.html', 'https://stats.espncricinfo.com/ci/engine/match/1298140.html', 'https://stats.espncricinfo.com/ci/engine/match/1298141.html', 'https://stats.espncricinfo.com/ci/engine/match/1298142.html', 'https://stats.espncricinfo.com/ci/engine/match/1298143.html', 'https://stats.espncricinfo.com/ci/engine/match/1298144.html', 'https://stats.espncricinfo.com/ci/engine/match/1298145.html', 'https://stats.espncricinfo.com/ci/engine/match/1298146.html', 'https://stats.espncricinfo.com/ci/engine/match/1298147.html', 'https://stats.espncricinfo.com/ci/engine/match/1298148.html', 'https://stats.espncricinfo.com/ci/engine/match/1298149.html', 'https://stats.espncricinfo.com/ci/engine/match/1298150.html', 'https://stats.espncricinfo.com/ci/engine/match/1298151.html', 'https://stats.espncricinfo.com/ci/engine/match/1298152.html', 'https://stats.espncricinfo.com/ci/engine/match/1298153.html', 'https://stats.espncricinfo.com/ci/engine/match/1298154.html', 'https://stats.espncricinfo.com/ci/engine/match/1298155.html', 'https://stats.espncricinfo.com/ci/engine/match/1298156.html', 'https://stats.espncricinfo.com/ci/engine/match/1298157.html', 'https://stats.espncricinfo.com/ci/engine/match/1298158.html', 'https://stats.espncricinfo.com/ci/engine/match/1298159.html', 'https://stats.espncricinfo.com/ci/engine/match/1298160.html', 'https://stats.espncricinfo.com/ci/engine/match/1298161.html', 'https://stats.espncricinfo.com/ci/engine/match/1298162.html', 'https://stats.espncricinfo.com/ci/engine/match/1298163.html', 'https://stats.espncricinfo.com/ci/engine/match/1298164.html', 'https://stats.espncricinfo.com/ci/engine/match/1298165.html', 'https://stats.espncricinfo.com/ci/engine/match/1298166.html', 'https://stats.espncricinfo.com/ci/engine/match/1298167.html', 'https://stats.espncricinfo.com/ci/engine/match/1298168.html', 'https://stats.espncricinfo.com/ci/engine/match/1298169.html', 'https://stats.espncricinfo.com/ci/engine/match/1298170.html', 'https://stats.espncricinfo.com/ci/engine/match/1298171.html', 'https://stats.espncricinfo.com/ci/engine/match/1298172.html', 'https://stats.espncricinfo.com/ci/engine/match/1298173.html', 'https://stats.espncricinfo.com/ci/engine/match/1298174.html', 'https://stats.espncricinfo.com/ci/engine/match/1298175.html', 'https://stats.espncricinfo.com/ci/engine/match/1298176.html', 'https://stats.espncricinfo.com/ci/engine/match/1298177.html', 'https://stats.espncricinfo.com/ci/engine/match/1298178.html', 'https://stats.espncricinfo.com/ci/engine/match/1298179.html']\n"
          ]
        }
      ],
      "source": [
        "all_links = []\n",
        "match_links = []\n",
        "\n",
        "for link in soup.select('a.data-link'):\n",
        "  all_links.append('https://stats.espncricinfo.com' + link.get('href'))\n",
        "\n",
        "for link in all_links:\n",
        "  if link.find('match') >= 0:\n",
        "    match_links.append(link)\n",
        "\n",
        "print(all_links)\n",
        "print(match_links)"
      ]
    },
    {
      "cell_type": "code",
      "execution_count": null,
      "metadata": {
        "id": "uG1ml7vRH6SE"
      },
      "outputs": [],
      "source": [
        "# For a single match\n",
        "# match_url = match_links[0]\n",
        "# match_page = requests.get(match_url)\n",
        "# soup = BeautifulSoup(match_page.text, 'html.parser')\n",
        "\n",
        "# teams = soup.find_all(\"span\", class_=\"ds-text-title-xs ds-font-bold ds-capitalize\")\n",
        "# team1 = teams[0].text\n",
        "# team2 = teams[1].text\n",
        "# match = team1 + ' Vs ' + team2\n",
        "# print(match)"
      ]
    },
    {
      "cell_type": "code",
      "execution_count": null,
      "metadata": {
        "id": "XlW3bxk2gBqM"
      },
      "outputs": [],
      "source": [
        "# Single Match\n",
        "# match_url = 'https://www.espncricinfo.com/series/icc-men-s-t20-world-cup-2022-23-1298134/south-africa-vs-zimbabwe-18th-match-group-2-1298152/full-scorecard'\n",
        "# match_page = requests.get(match_url)\n",
        "# soup = BeautifulSoup(match_page.text, 'html.parser')\n",
        "\n",
        "# if soup.find_all(\"span\", class_=\"ds-text-title-xs ds-font-bold ds-capitalize\"):\n",
        "#   teams = soup.find_all(\"span\", class_=\"ds-text-title-xs ds-font-bold ds-capitalize\")\n",
        "#   team1 = teams[0].text\n",
        "#   team2 = teams[1].text\n",
        "#   match = team1 + ' Vs ' + team2\n",
        "\n",
        "# tables = soup.find_all(\"table\", class_=\"ci-scorecard-table\")\n",
        "# team1_batting = tables[0]\n",
        "# team2_batting = tables[1]\n",
        "\n",
        "# pos = 1\n",
        "# for j in team1_batting.find_all('tr')[1:]:\n",
        "#   if len(j.find_all('td')) == 8:\n",
        "#     row_data = j.find_all('td')\n",
        "#   else:\n",
        "#     continue\n",
        "  \n",
        "#   full_row = [match, team1, pos]\n",
        "#   pos += 1\n",
        "\n",
        "#   rest_row = [i.text for i in row_data]\n",
        "#   out_or_not = rest_row[1][0]\n",
        "#   rest_row.pop(1)              # Pop the column which has out details\n",
        "#   rest_row.pop(3)              # Pop the column which has number of minutes stayed on crease\n",
        "\n",
        "#   full_row.extend(rest_row)\n",
        "#   full_row.append(ifOut(out_or_not))\n",
        "#   length = len(batting_data)\n",
        "#   batting_data.loc[length] = full_row\n",
        "\n",
        "# pos = 1\n",
        "# for j in team2_batting.find_all('tr')[1:]:\n",
        "#   if len(j.find_all('td')) == 8:\n",
        "#     row_data = j.find_all('td')\n",
        "#   else:\n",
        "#     continue\n",
        "  \n",
        "#   full_row = [match, team2, pos]\n",
        "#   pos += 1\n",
        "\n",
        "#   rest_row = [i.text for i in row_data]\n",
        "#   out_or_not = rest_row[1][0]\n",
        "#   rest_row.pop(1)              # Pop the column which has out details\n",
        "#   rest_row.pop(3)              # Pop the column which has number of minutes stayed on crease\n",
        "\n",
        "#   full_row.extend(rest_row)\n",
        "#   full_row.append(ifOut(out_or_not))\n",
        "#   length = len(batting_data)\n",
        "#   batting_data.loc[length] = full_row"
      ]
    },
    {
      "cell_type": "code",
      "execution_count": null,
      "metadata": {
        "id": "ZEgS60XZdxYQ"
      },
      "outputs": [],
      "source": [
        "# Helper Functions\n",
        "def if_out(text):\n",
        "  if text == \"n\":\n",
        "    return \"not_out\"\n",
        "  else:\n",
        "    return \"out\"\n",
        "\n",
        "def convert_name(name):\n",
        "  lastPos = 0\n",
        "  for i in range(0, len(name)):\n",
        "    if (name[i].isalpha() or name[i] == ')') == True:\n",
        "      lastPos = i+1\n",
        "  return name[:lastPos]"
      ]
    },
    {
      "cell_type": "code",
      "execution_count": null,
      "metadata": {
        "id": "tK5cxWo5lL6o"
      },
      "outputs": [],
      "source": [
        "# For all matches\n",
        "\n",
        "import pandas as pd\n",
        "headers = [\"match\", \"teamInnings\", \"battingPos\", \"batsmanName\", \"runs\", \"balls\", \"4s\", \"6s\", \"SR\", \"out/not_out\"]\n",
        "batting_data = pd.DataFrame(columns = headers)\n",
        "\n",
        "for link in match_links:\n",
        "  match_url = link\n",
        "  match_page = requests.get(match_url)\n",
        "  soup = BeautifulSoup(match_page.text, 'html.parser')\n",
        "\n",
        "  if soup.find_all(\"span\", class_=\"ds-text-title-xs ds-font-bold ds-capitalize\"):\n",
        "    teams = soup.find_all(\"span\", class_=\"ds-text-title-xs ds-font-bold ds-capitalize\")\n",
        "    team1 = teams[0].text\n",
        "    team2 = teams[1].text\n",
        "    match = team1 + ' Vs ' + team2\n",
        "\n",
        "    tables = soup.find_all(\"table\", class_=\"ci-scorecard-table\")\n",
        "    team1_batting = tables[0]\n",
        "    team2_batting = tables[1]\n",
        "  else:\n",
        "    continue\n",
        "\n",
        "  # if soup.find_all(\"table\", class_=\"ci-scorecard-table\"):\n",
        "  #   tables = soup.find_all(\"table\", class_=\"ci-scorecard-table\")\n",
        "  #   team1_batting = tables[0]\n",
        "  #   team2_batting = tables[1]\n",
        "  # else:\n",
        "  #   continue\n",
        "\n",
        "  pos = 1\n",
        "  for j in team1_batting.find_all('tr')[1:]:\n",
        "    if len(j.find_all('td')) == 8:\n",
        "      row_data = j.find_all('td')\n",
        "    else:\n",
        "      continue\n",
        "    \n",
        "    full_row = [match, team1, pos]\n",
        "    pos += 1\n",
        "\n",
        "    rest_row = [i.text for i in row_data]\n",
        "    out_or_not = rest_row[1][0]\n",
        "    rest_row.pop(1)              # Pop the column which has out details\n",
        "    rest_row.pop(3)              # Pop the column which has number of minutes stayed on crease\n",
        "\n",
        "    rest_row[0] = convert_name(rest_row[0])\n",
        "    full_row.extend(rest_row)\n",
        "    full_row.append(if_out(out_or_not))\n",
        "    length = len(batting_data)\n",
        "    batting_data.loc[length] = full_row\n",
        "\n",
        "  pos = 1\n",
        "  for j in team2_batting.find_all('tr')[1:]:\n",
        "    if len(j.find_all('td')) == 8:\n",
        "      row_data = j.find_all('td')\n",
        "    else:\n",
        "      continue\n",
        "    \n",
        "    full_row = [match, team2, pos]\n",
        "    pos += 1\n",
        "\n",
        "    rest_row = [i.text for i in row_data]\n",
        "    out_or_not = rest_row[1][0]\n",
        "    rest_row.pop(1)              # Pop the column which has out details\n",
        "    rest_row.pop(3)              # Pop the column which has number of minutes stayed on crease\n",
        "\n",
        "    rest_row[0] = convert_name(rest_row[0])\n",
        "    full_row.extend(rest_row)\n",
        "    full_row.append(if_out(out_or_not))\n",
        "    length = len(batting_data)\n",
        "    batting_data.loc[length] = full_row"
      ]
    },
    {
      "cell_type": "code",
      "execution_count": null,
      "metadata": {
        "colab": {
          "base_uri": "https://localhost:8080/",
          "height": 424
        },
        "id": "HftyOw-dYYnT",
        "outputId": "ff518465-865d-4ee3-c9ab-4c24c0fb6e3e"
      },
      "outputs": [
        {
          "output_type": "execute_result",
          "data": {
            "text/plain": [
              "                    match teamInnings battingPos             batsmanName runs  \\\n",
              "0    Namibia Vs Sri Lanka     Namibia          1      Michael van Lingen    3   \n",
              "1    Namibia Vs Sri Lanka     Namibia          2           Divan la Cock    9   \n",
              "2    Namibia Vs Sri Lanka     Namibia          3  Jan Nicol Loftie-Eaton   20   \n",
              "3    Namibia Vs Sri Lanka     Namibia          4           Stephan Baard   26   \n",
              "4    Namibia Vs Sri Lanka     Namibia          5     Gerhard Erasmus (c)   20   \n",
              "..                    ...         ...        ...                     ...  ...   \n",
              "694   Pakistan Vs England     England          3               Phil Salt   10   \n",
              "695   Pakistan Vs England     England          4              Ben Stokes   52   \n",
              "696   Pakistan Vs England     England          5             Harry Brook   20   \n",
              "697   Pakistan Vs England     England          6               Moeen Ali   19   \n",
              "698   Pakistan Vs England     England          7        Liam Livingstone    1   \n",
              "\n",
              "    balls 4s 6s      SR out/not_out  \n",
              "0       6  0  0   50.00         out  \n",
              "1       9  1  0  100.00         out  \n",
              "2      12  1  2  166.66         out  \n",
              "3      24  2  0  108.33         out  \n",
              "4      24  0  0   83.33         out  \n",
              "..    ... .. ..     ...         ...  \n",
              "694     9  2  0  111.11         out  \n",
              "695    49  5  1  106.12     not_out  \n",
              "696    23  1  0   86.95         out  \n",
              "697    13  3  0  146.15         out  \n",
              "698     1  0  0  100.00     not_out  \n",
              "\n",
              "[699 rows x 10 columns]"
            ],
            "text/html": [
              "\n",
              "  <div id=\"df-2f9b2df9-855a-4c41-a5ad-f7e0e5456924\">\n",
              "    <div class=\"colab-df-container\">\n",
              "      <div>\n",
              "<style scoped>\n",
              "    .dataframe tbody tr th:only-of-type {\n",
              "        vertical-align: middle;\n",
              "    }\n",
              "\n",
              "    .dataframe tbody tr th {\n",
              "        vertical-align: top;\n",
              "    }\n",
              "\n",
              "    .dataframe thead th {\n",
              "        text-align: right;\n",
              "    }\n",
              "</style>\n",
              "<table border=\"1\" class=\"dataframe\">\n",
              "  <thead>\n",
              "    <tr style=\"text-align: right;\">\n",
              "      <th></th>\n",
              "      <th>match</th>\n",
              "      <th>teamInnings</th>\n",
              "      <th>battingPos</th>\n",
              "      <th>batsmanName</th>\n",
              "      <th>runs</th>\n",
              "      <th>balls</th>\n",
              "      <th>4s</th>\n",
              "      <th>6s</th>\n",
              "      <th>SR</th>\n",
              "      <th>out/not_out</th>\n",
              "    </tr>\n",
              "  </thead>\n",
              "  <tbody>\n",
              "    <tr>\n",
              "      <th>0</th>\n",
              "      <td>Namibia Vs Sri Lanka</td>\n",
              "      <td>Namibia</td>\n",
              "      <td>1</td>\n",
              "      <td>Michael van Lingen</td>\n",
              "      <td>3</td>\n",
              "      <td>6</td>\n",
              "      <td>0</td>\n",
              "      <td>0</td>\n",
              "      <td>50.00</td>\n",
              "      <td>out</td>\n",
              "    </tr>\n",
              "    <tr>\n",
              "      <th>1</th>\n",
              "      <td>Namibia Vs Sri Lanka</td>\n",
              "      <td>Namibia</td>\n",
              "      <td>2</td>\n",
              "      <td>Divan la Cock</td>\n",
              "      <td>9</td>\n",
              "      <td>9</td>\n",
              "      <td>1</td>\n",
              "      <td>0</td>\n",
              "      <td>100.00</td>\n",
              "      <td>out</td>\n",
              "    </tr>\n",
              "    <tr>\n",
              "      <th>2</th>\n",
              "      <td>Namibia Vs Sri Lanka</td>\n",
              "      <td>Namibia</td>\n",
              "      <td>3</td>\n",
              "      <td>Jan Nicol Loftie-Eaton</td>\n",
              "      <td>20</td>\n",
              "      <td>12</td>\n",
              "      <td>1</td>\n",
              "      <td>2</td>\n",
              "      <td>166.66</td>\n",
              "      <td>out</td>\n",
              "    </tr>\n",
              "    <tr>\n",
              "      <th>3</th>\n",
              "      <td>Namibia Vs Sri Lanka</td>\n",
              "      <td>Namibia</td>\n",
              "      <td>4</td>\n",
              "      <td>Stephan Baard</td>\n",
              "      <td>26</td>\n",
              "      <td>24</td>\n",
              "      <td>2</td>\n",
              "      <td>0</td>\n",
              "      <td>108.33</td>\n",
              "      <td>out</td>\n",
              "    </tr>\n",
              "    <tr>\n",
              "      <th>4</th>\n",
              "      <td>Namibia Vs Sri Lanka</td>\n",
              "      <td>Namibia</td>\n",
              "      <td>5</td>\n",
              "      <td>Gerhard Erasmus (c)</td>\n",
              "      <td>20</td>\n",
              "      <td>24</td>\n",
              "      <td>0</td>\n",
              "      <td>0</td>\n",
              "      <td>83.33</td>\n",
              "      <td>out</td>\n",
              "    </tr>\n",
              "    <tr>\n",
              "      <th>...</th>\n",
              "      <td>...</td>\n",
              "      <td>...</td>\n",
              "      <td>...</td>\n",
              "      <td>...</td>\n",
              "      <td>...</td>\n",
              "      <td>...</td>\n",
              "      <td>...</td>\n",
              "      <td>...</td>\n",
              "      <td>...</td>\n",
              "      <td>...</td>\n",
              "    </tr>\n",
              "    <tr>\n",
              "      <th>694</th>\n",
              "      <td>Pakistan Vs England</td>\n",
              "      <td>England</td>\n",
              "      <td>3</td>\n",
              "      <td>Phil Salt</td>\n",
              "      <td>10</td>\n",
              "      <td>9</td>\n",
              "      <td>2</td>\n",
              "      <td>0</td>\n",
              "      <td>111.11</td>\n",
              "      <td>out</td>\n",
              "    </tr>\n",
              "    <tr>\n",
              "      <th>695</th>\n",
              "      <td>Pakistan Vs England</td>\n",
              "      <td>England</td>\n",
              "      <td>4</td>\n",
              "      <td>Ben Stokes</td>\n",
              "      <td>52</td>\n",
              "      <td>49</td>\n",
              "      <td>5</td>\n",
              "      <td>1</td>\n",
              "      <td>106.12</td>\n",
              "      <td>not_out</td>\n",
              "    </tr>\n",
              "    <tr>\n",
              "      <th>696</th>\n",
              "      <td>Pakistan Vs England</td>\n",
              "      <td>England</td>\n",
              "      <td>5</td>\n",
              "      <td>Harry Brook</td>\n",
              "      <td>20</td>\n",
              "      <td>23</td>\n",
              "      <td>1</td>\n",
              "      <td>0</td>\n",
              "      <td>86.95</td>\n",
              "      <td>out</td>\n",
              "    </tr>\n",
              "    <tr>\n",
              "      <th>697</th>\n",
              "      <td>Pakistan Vs England</td>\n",
              "      <td>England</td>\n",
              "      <td>6</td>\n",
              "      <td>Moeen Ali</td>\n",
              "      <td>19</td>\n",
              "      <td>13</td>\n",
              "      <td>3</td>\n",
              "      <td>0</td>\n",
              "      <td>146.15</td>\n",
              "      <td>out</td>\n",
              "    </tr>\n",
              "    <tr>\n",
              "      <th>698</th>\n",
              "      <td>Pakistan Vs England</td>\n",
              "      <td>England</td>\n",
              "      <td>7</td>\n",
              "      <td>Liam Livingstone</td>\n",
              "      <td>1</td>\n",
              "      <td>1</td>\n",
              "      <td>0</td>\n",
              "      <td>0</td>\n",
              "      <td>100.00</td>\n",
              "      <td>not_out</td>\n",
              "    </tr>\n",
              "  </tbody>\n",
              "</table>\n",
              "<p>699 rows × 10 columns</p>\n",
              "</div>\n",
              "      <button class=\"colab-df-convert\" onclick=\"convertToInteractive('df-2f9b2df9-855a-4c41-a5ad-f7e0e5456924')\"\n",
              "              title=\"Convert this dataframe to an interactive table.\"\n",
              "              style=\"display:none;\">\n",
              "        \n",
              "  <svg xmlns=\"http://www.w3.org/2000/svg\" height=\"24px\"viewBox=\"0 0 24 24\"\n",
              "       width=\"24px\">\n",
              "    <path d=\"M0 0h24v24H0V0z\" fill=\"none\"/>\n",
              "    <path d=\"M18.56 5.44l.94 2.06.94-2.06 2.06-.94-2.06-.94-.94-2.06-.94 2.06-2.06.94zm-11 1L8.5 8.5l.94-2.06 2.06-.94-2.06-.94L8.5 2.5l-.94 2.06-2.06.94zm10 10l.94 2.06.94-2.06 2.06-.94-2.06-.94-.94-2.06-.94 2.06-2.06.94z\"/><path d=\"M17.41 7.96l-1.37-1.37c-.4-.4-.92-.59-1.43-.59-.52 0-1.04.2-1.43.59L10.3 9.45l-7.72 7.72c-.78.78-.78 2.05 0 2.83L4 21.41c.39.39.9.59 1.41.59.51 0 1.02-.2 1.41-.59l7.78-7.78 2.81-2.81c.8-.78.8-2.07 0-2.86zM5.41 20L4 18.59l7.72-7.72 1.47 1.35L5.41 20z\"/>\n",
              "  </svg>\n",
              "      </button>\n",
              "      \n",
              "  <style>\n",
              "    .colab-df-container {\n",
              "      display:flex;\n",
              "      flex-wrap:wrap;\n",
              "      gap: 12px;\n",
              "    }\n",
              "\n",
              "    .colab-df-convert {\n",
              "      background-color: #E8F0FE;\n",
              "      border: none;\n",
              "      border-radius: 50%;\n",
              "      cursor: pointer;\n",
              "      display: none;\n",
              "      fill: #1967D2;\n",
              "      height: 32px;\n",
              "      padding: 0 0 0 0;\n",
              "      width: 32px;\n",
              "    }\n",
              "\n",
              "    .colab-df-convert:hover {\n",
              "      background-color: #E2EBFA;\n",
              "      box-shadow: 0px 1px 2px rgba(60, 64, 67, 0.3), 0px 1px 3px 1px rgba(60, 64, 67, 0.15);\n",
              "      fill: #174EA6;\n",
              "    }\n",
              "\n",
              "    [theme=dark] .colab-df-convert {\n",
              "      background-color: #3B4455;\n",
              "      fill: #D2E3FC;\n",
              "    }\n",
              "\n",
              "    [theme=dark] .colab-df-convert:hover {\n",
              "      background-color: #434B5C;\n",
              "      box-shadow: 0px 1px 3px 1px rgba(0, 0, 0, 0.15);\n",
              "      filter: drop-shadow(0px 1px 2px rgba(0, 0, 0, 0.3));\n",
              "      fill: #FFFFFF;\n",
              "    }\n",
              "  </style>\n",
              "\n",
              "      <script>\n",
              "        const buttonEl =\n",
              "          document.querySelector('#df-2f9b2df9-855a-4c41-a5ad-f7e0e5456924 button.colab-df-convert');\n",
              "        buttonEl.style.display =\n",
              "          google.colab.kernel.accessAllowed ? 'block' : 'none';\n",
              "\n",
              "        async function convertToInteractive(key) {\n",
              "          const element = document.querySelector('#df-2f9b2df9-855a-4c41-a5ad-f7e0e5456924');\n",
              "          const dataTable =\n",
              "            await google.colab.kernel.invokeFunction('convertToInteractive',\n",
              "                                                     [key], {});\n",
              "          if (!dataTable) return;\n",
              "\n",
              "          const docLinkHtml = 'Like what you see? Visit the ' +\n",
              "            '<a target=\"_blank\" href=https://colab.research.google.com/notebooks/data_table.ipynb>data table notebook</a>'\n",
              "            + ' to learn more about interactive tables.';\n",
              "          element.innerHTML = '';\n",
              "          dataTable['output_type'] = 'display_data';\n",
              "          await google.colab.output.renderOutput(dataTable, element);\n",
              "          const docLink = document.createElement('div');\n",
              "          docLink.innerHTML = docLinkHtml;\n",
              "          element.appendChild(docLink);\n",
              "        }\n",
              "      </script>\n",
              "    </div>\n",
              "  </div>\n",
              "  "
            ]
          },
          "metadata": {},
          "execution_count": 9
        }
      ],
      "source": [
        "batting_data"
      ]
    },
    {
      "cell_type": "code",
      "execution_count": null,
      "metadata": {
        "colab": {
          "base_uri": "https://localhost:8080/"
        },
        "id": "b2PISzPOsOtG",
        "outputId": "5a7c528e-80b0-43fb-f8f0-1512fb8df1c1"
      },
      "outputs": [
        {
          "output_type": "execute_result",
          "data": {
            "text/plain": [
              "(699, 10)"
            ]
          },
          "metadata": {},
          "execution_count": 10
        }
      ],
      "source": [
        "batting_data.shape"
      ]
    },
    {
      "cell_type": "code",
      "execution_count": null,
      "metadata": {
        "id": "OfdVQIi66VQd"
      },
      "outputs": [],
      "source": [
        "# Export to csv\n",
        "batting_data.to_csv('Batting_summary.csv', index=False)"
      ]
    },
    {
      "cell_type": "code",
      "source": [
        "# Made some changes/updations to file in excel"
      ],
      "metadata": {
        "id": "F0kNygeKhwm7"
      },
      "execution_count": null,
      "outputs": []
    },
    {
      "cell_type": "code",
      "source": [
        "# Map Match Ids so that we can connect Matches table with Batting Summary table\n",
        "df_match = pd.read_csv('Match_summary.csv')\n",
        "\n",
        "match_ids_dict = {}\n",
        "for index, row in df_match.iterrows():\n",
        "    key1 = row['team1'] + ' Vs ' + row['team2']\n",
        "    key2 = row['team2'] + ' Vs ' + row['team1']\n",
        "    match_ids_dict[key1] = row['match_id']\n",
        "    match_ids_dict[key2] = row['match_id']"
      ],
      "metadata": {
        "id": "4upDPDTWndpu"
      },
      "execution_count": null,
      "outputs": []
    },
    {
      "cell_type": "code",
      "source": [
        "df_batting = pd.read_csv('Batting_summary.csv')\n",
        "df_batting['match_id'] = df_batting['match'].map(match_ids_dict)"
      ],
      "metadata": {
        "id": "v35ennvlohIY"
      },
      "execution_count": null,
      "outputs": []
    }
  ],
  "metadata": {
    "colab": {
      "provenance": []
    },
    "kernelspec": {
      "display_name": "Python 3",
      "name": "python3"
    },
    "language_info": {
      "name": "python"
    }
  },
  "nbformat": 4,
  "nbformat_minor": 0
}